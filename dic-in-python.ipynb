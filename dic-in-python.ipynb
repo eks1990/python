{
 "cells": [
  {
   "cell_type": "code",
   "execution_count": 1,
   "id": "e6bb0200",
   "metadata": {
    "execution": {
     "iopub.execute_input": "2023-10-10T16:04:44.425157Z",
     "iopub.status.busy": "2023-10-10T16:04:44.424738Z",
     "iopub.status.idle": "2023-10-10T16:04:44.434417Z",
     "shell.execute_reply": "2023-10-10T16:04:44.433498Z"
    },
    "papermill": {
     "duration": 0.016807,
     "end_time": "2023-10-10T16:04:44.436560",
     "exception": false,
     "start_time": "2023-10-10T16:04:44.419753",
     "status": "completed"
    },
    "tags": []
   },
   "outputs": [
    {
     "name": "stdout",
     "output_type": "stream",
     "text": [
      "{'name': 'ritu', 'class': '12', 'sub': 'hindi'}\n",
      "<class 'dict'>\n",
      "3\n"
     ]
    }
   ],
   "source": [
    "std_1 ={\"name\":\"ritu\",\"class\":\"12\",\"sub\":\"hindi\"}\n",
    "print(std_1)\n",
    "print(type(std_1))\n",
    "print(len(std_1))"
   ]
  },
  {
   "cell_type": "code",
   "execution_count": 2,
   "id": "c539afb9",
   "metadata": {
    "execution": {
     "iopub.execute_input": "2023-10-10T16:04:44.446785Z",
     "iopub.status.busy": "2023-10-10T16:04:44.445658Z",
     "iopub.status.idle": "2023-10-10T16:04:44.451442Z",
     "shell.execute_reply": "2023-10-10T16:04:44.450341Z"
    },
    "papermill": {
     "duration": 0.012247,
     "end_time": "2023-10-10T16:04:44.453755",
     "exception": false,
     "start_time": "2023-10-10T16:04:44.441508",
     "status": "completed"
    },
    "tags": []
   },
   "outputs": [
    {
     "name": "stdout",
     "output_type": "stream",
     "text": [
      "ritu\n"
     ]
    }
   ],
   "source": [
    "print(std_1['name'])"
   ]
  },
  {
   "cell_type": "code",
   "execution_count": 3,
   "id": "c7b11386",
   "metadata": {
    "execution": {
     "iopub.execute_input": "2023-10-10T16:04:44.461374Z",
     "iopub.status.busy": "2023-10-10T16:04:44.461021Z",
     "iopub.status.idle": "2023-10-10T16:04:44.465961Z",
     "shell.execute_reply": "2023-10-10T16:04:44.464937Z"
    },
    "papermill": {
     "duration": 0.011157,
     "end_time": "2023-10-10T16:04:44.468053",
     "exception": false,
     "start_time": "2023-10-10T16:04:44.456896",
     "status": "completed"
    },
    "tags": []
   },
   "outputs": [
    {
     "name": "stdout",
     "output_type": "stream",
     "text": [
      "dict_keys(['name', 'class', 'sub'])\n",
      "dict_values(['ritu', '12', 'hindi'])\n"
     ]
    }
   ],
   "source": [
    "print(std_1.keys())\n",
    "print(std_1.values())"
   ]
  },
  {
   "cell_type": "code",
   "execution_count": 4,
   "id": "6bca97e4",
   "metadata": {
    "execution": {
     "iopub.execute_input": "2023-10-10T16:04:44.476385Z",
     "iopub.status.busy": "2023-10-10T16:04:44.476015Z",
     "iopub.status.idle": "2023-10-10T16:04:44.481254Z",
     "shell.execute_reply": "2023-10-10T16:04:44.480161Z"
    },
    "papermill": {
     "duration": 0.01174,
     "end_time": "2023-10-10T16:04:44.483415",
     "exception": false,
     "start_time": "2023-10-10T16:04:44.471675",
     "status": "completed"
    },
    "tags": []
   },
   "outputs": [
    {
     "name": "stdout",
     "output_type": "stream",
     "text": [
      "12\n"
     ]
    }
   ],
   "source": [
    "print(std_1.pop(\"class\"))"
   ]
  },
  {
   "cell_type": "code",
   "execution_count": 5,
   "id": "25ffa903",
   "metadata": {
    "execution": {
     "iopub.execute_input": "2023-10-10T16:04:44.491529Z",
     "iopub.status.busy": "2023-10-10T16:04:44.491120Z",
     "iopub.status.idle": "2023-10-10T16:04:44.496277Z",
     "shell.execute_reply": "2023-10-10T16:04:44.495215Z"
    },
    "papermill": {
     "duration": 0.011517,
     "end_time": "2023-10-10T16:04:44.498277",
     "exception": false,
     "start_time": "2023-10-10T16:04:44.486760",
     "status": "completed"
    },
    "tags": []
   },
   "outputs": [
    {
     "name": "stdout",
     "output_type": "stream",
     "text": [
      "{'name': 'ritu', 'sub': 'hindi'}\n"
     ]
    }
   ],
   "source": [
    "print(std_1)"
   ]
  },
  {
   "cell_type": "code",
   "execution_count": 6,
   "id": "a2bd3cb5",
   "metadata": {
    "execution": {
     "iopub.execute_input": "2023-10-10T16:04:44.506369Z",
     "iopub.status.busy": "2023-10-10T16:04:44.506027Z",
     "iopub.status.idle": "2023-10-10T16:04:44.511749Z",
     "shell.execute_reply": "2023-10-10T16:04:44.510404Z"
    },
    "papermill": {
     "duration": 0.011936,
     "end_time": "2023-10-10T16:04:44.513787",
     "exception": false,
     "start_time": "2023-10-10T16:04:44.501851",
     "status": "completed"
    },
    "tags": []
   },
   "outputs": [
    {
     "name": "stdout",
     "output_type": "stream",
     "text": [
      "('sub', 'hindi')\n"
     ]
    }
   ],
   "source": [
    "print(std_1.popitem())"
   ]
  },
  {
   "cell_type": "code",
   "execution_count": 7,
   "id": "dd4b8f3a",
   "metadata": {
    "execution": {
     "iopub.execute_input": "2023-10-10T16:04:44.521795Z",
     "iopub.status.busy": "2023-10-10T16:04:44.521488Z",
     "iopub.status.idle": "2023-10-10T16:04:44.526976Z",
     "shell.execute_reply": "2023-10-10T16:04:44.525773Z"
    },
    "papermill": {
     "duration": 0.011746,
     "end_time": "2023-10-10T16:04:44.528917",
     "exception": false,
     "start_time": "2023-10-10T16:04:44.517171",
     "status": "completed"
    },
    "tags": []
   },
   "outputs": [
    {
     "name": "stdout",
     "output_type": "stream",
     "text": [
      "{'name': 'ritu'}\n"
     ]
    }
   ],
   "source": [
    "print(std_1)"
   ]
  },
  {
   "cell_type": "code",
   "execution_count": 8,
   "id": "03485d00",
   "metadata": {
    "execution": {
     "iopub.execute_input": "2023-10-10T16:04:44.536942Z",
     "iopub.status.busy": "2023-10-10T16:04:44.536636Z",
     "iopub.status.idle": "2023-10-10T16:04:44.541872Z",
     "shell.execute_reply": "2023-10-10T16:04:44.540770Z"
    },
    "papermill": {
     "duration": 0.011565,
     "end_time": "2023-10-10T16:04:44.543913",
     "exception": false,
     "start_time": "2023-10-10T16:04:44.532348",
     "status": "completed"
    },
    "tags": []
   },
   "outputs": [
    {
     "name": "stdout",
     "output_type": "stream",
     "text": [
      "{'name': 'ritu', 'sub': 'hindi', 'rollno': '123'}\n"
     ]
    }
   ],
   "source": [
    "std_1.update({\"sub\":\"hindi\", \"rollno\":\"123\"})\n",
    "print(std_1)"
   ]
  },
  {
   "cell_type": "code",
   "execution_count": 9,
   "id": "f49e50d1",
   "metadata": {
    "execution": {
     "iopub.execute_input": "2023-10-10T16:04:44.552433Z",
     "iopub.status.busy": "2023-10-10T16:04:44.551592Z",
     "iopub.status.idle": "2023-10-10T16:04:44.556929Z",
     "shell.execute_reply": "2023-10-10T16:04:44.555737Z"
    },
    "papermill": {
     "duration": 0.011573,
     "end_time": "2023-10-10T16:04:44.558812",
     "exception": false,
     "start_time": "2023-10-10T16:04:44.547239",
     "status": "completed"
    },
    "tags": []
   },
   "outputs": [
    {
     "name": "stdout",
     "output_type": "stream",
     "text": [
      "123\n"
     ]
    }
   ],
   "source": [
    "print(std_1.get(\"rollno\"))"
   ]
  },
  {
   "cell_type": "code",
   "execution_count": 10,
   "id": "6d99ec1d",
   "metadata": {
    "execution": {
     "iopub.execute_input": "2023-10-10T16:04:44.566931Z",
     "iopub.status.busy": "2023-10-10T16:04:44.566593Z",
     "iopub.status.idle": "2023-10-10T16:04:44.571781Z",
     "shell.execute_reply": "2023-10-10T16:04:44.570734Z"
    },
    "papermill": {
     "duration": 0.011902,
     "end_time": "2023-10-10T16:04:44.574054",
     "exception": false,
     "start_time": "2023-10-10T16:04:44.562152",
     "status": "completed"
    },
    "tags": []
   },
   "outputs": [
    {
     "name": "stdout",
     "output_type": "stream",
     "text": [
      "{'std1': {'name': 'ritu', 'age': '12'}, 'std2': {'name': 'rahul', 'age': '15'}, 'std3': {'name': 'priya', 'age': '11'}}\n"
     ]
    }
   ],
   "source": [
    "std_info = {\n",
    "    \"std1\":{\n",
    "        \"name\":\"ritu\",\n",
    "        \"age\":\"12\"\n",
    "\n",
    "    },\n",
    "    \"std2\":{\n",
    "        \"name\":\"rahul\",\n",
    "        \"age\":\"15\"\n",
    "\n",
    "    },\n",
    "    \"std3\":{\n",
    "        \"name\":\"priya\",\n",
    "        \"age\":\"11\"\n",
    "    }\n",
    "}\n",
    "print(std_info)"
   ]
  },
  {
   "cell_type": "code",
   "execution_count": 11,
   "id": "6c5d3feb",
   "metadata": {
    "execution": {
     "iopub.execute_input": "2023-10-10T16:04:44.582702Z",
     "iopub.status.busy": "2023-10-10T16:04:44.582171Z",
     "iopub.status.idle": "2023-10-10T16:04:44.586823Z",
     "shell.execute_reply": "2023-10-10T16:04:44.585869Z"
    },
    "papermill": {
     "duration": 0.011151,
     "end_time": "2023-10-10T16:04:44.588694",
     "exception": false,
     "start_time": "2023-10-10T16:04:44.577543",
     "status": "completed"
    },
    "tags": []
   },
   "outputs": [
    {
     "name": "stdout",
     "output_type": "stream",
     "text": [
      "{'name': 'rahul', 'age': '15'}\n"
     ]
    }
   ],
   "source": [
    "print(std_info.get(\"std2\"))\n"
   ]
  },
  {
   "cell_type": "code",
   "execution_count": 12,
   "id": "e0a244a5",
   "metadata": {
    "execution": {
     "iopub.execute_input": "2023-10-10T16:04:44.597093Z",
     "iopub.status.busy": "2023-10-10T16:04:44.596754Z",
     "iopub.status.idle": "2023-10-10T16:04:44.601811Z",
     "shell.execute_reply": "2023-10-10T16:04:44.600580Z"
    },
    "papermill": {
     "duration": 0.012382,
     "end_time": "2023-10-10T16:04:44.604736",
     "exception": false,
     "start_time": "2023-10-10T16:04:44.592354",
     "status": "completed"
    },
    "tags": []
   },
   "outputs": [
    {
     "name": "stdout",
     "output_type": "stream",
     "text": [
      "rahul\n"
     ]
    }
   ],
   "source": [
    "print(std_info.get(\"std2\").get(\"name\"))"
   ]
  }
 ],
 "metadata": {
  "kernelspec": {
   "display_name": "Python 3",
   "language": "python",
   "name": "python3"
  },
  "language_info": {
   "codemirror_mode": {
    "name": "ipython",
    "version": 3
   },
   "file_extension": ".py",
   "mimetype": "text/x-python",
   "name": "python",
   "nbconvert_exporter": "python",
   "pygments_lexer": "ipython3",
   "version": "3.10.12"
  },
  "papermill": {
   "default_parameters": {},
   "duration": 3.745218,
   "end_time": "2023-10-10T16:04:44.928779",
   "environment_variables": {},
   "exception": null,
   "input_path": "__notebook__.ipynb",
   "output_path": "__notebook__.ipynb",
   "parameters": {},
   "start_time": "2023-10-10T16:04:41.183561",
   "version": "2.4.0"
  }
 },
 "nbformat": 4,
 "nbformat_minor": 5
}
